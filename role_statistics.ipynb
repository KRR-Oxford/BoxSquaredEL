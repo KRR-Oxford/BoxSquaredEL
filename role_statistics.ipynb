{
 "cells": [
  {
   "cell_type": "code",
   "execution_count": 239,
   "metadata": {
    "collapsed": true,
    "ExecuteTime": {
     "end_time": "2023-08-08T15:29:00.153727991Z",
     "start_time": "2023-08-08T15:29:00.099515480Z"
    }
   },
   "outputs": [],
   "source": [
    "import pandas as pd\n",
    "\n",
    "from utils.data_loader import DataLoader"
   ]
  },
  {
   "cell_type": "code",
   "execution_count": 240,
   "outputs": [],
   "source": [
    "dataset = 'GALEN'"
   ],
   "metadata": {
    "collapsed": false,
    "ExecuteTime": {
     "end_time": "2023-08-08T15:29:00.216589901Z",
     "start_time": "2023-08-08T15:29:00.107399376Z"
    }
   }
  },
  {
   "cell_type": "code",
   "execution_count": 241,
   "outputs": [
    {
     "data": {
      "text/plain": "(28118, 3)"
     },
     "execution_count": 241,
     "metadata": {},
     "output_type": "execute_result"
    }
   ],
   "source": [
    "data_loader = DataLoader.from_task('inferences')\n",
    "data, classes, relations = data_loader.load_data(dataset)\n",
    "data = pd.DataFrame(data['nf3'], columns=['c', 'r', 'd'])\n",
    "data.shape"
   ],
   "metadata": {
    "collapsed": false,
    "ExecuteTime": {
     "end_time": "2023-08-08T15:29:00.320955012Z",
     "start_time": "2023-08-08T15:29:00.121406199Z"
    }
   }
  },
  {
   "cell_type": "markdown",
   "source": [
    "### Fraction of many-to-one, one-to-many, or many-to-many axioms:"
   ],
   "metadata": {
    "collapsed": false
   }
  },
  {
   "cell_type": "code",
   "execution_count": 242,
   "outputs": [],
   "source": [
    "otm_counts = data.groupby(['c', 'r']).count()\n",
    "otms = set(otm_counts[otm_counts['d'] > 1].index.to_list())\n",
    "otm_mask = data.apply(lambda row: (row['c'], row['r']) in otms, axis=1)"
   ],
   "metadata": {
    "collapsed": false,
    "ExecuteTime": {
     "end_time": "2023-08-08T15:29:00.710721857Z",
     "start_time": "2023-08-08T15:29:00.307202437Z"
    }
   }
  },
  {
   "cell_type": "code",
   "execution_count": 243,
   "outputs": [],
   "source": [
    "mto_counts = data.groupby(['r', 'd']).count()\n",
    "mtos = set(mto_counts[mto_counts['c'] > 1].index.to_list())\n",
    "mto_mask = data.apply(lambda row: (row['r'], row['d']) in mtos, axis=1)"
   ],
   "metadata": {
    "collapsed": false,
    "ExecuteTime": {
     "end_time": "2023-08-08T15:29:01.168992077Z",
     "start_time": "2023-08-08T15:29:00.713143588Z"
    }
   }
  },
  {
   "cell_type": "code",
   "execution_count": 244,
   "outputs": [],
   "source": [
    "mask = otm_mask | mto_mask"
   ],
   "metadata": {
    "collapsed": false,
    "ExecuteTime": {
     "end_time": "2023-08-08T15:29:01.176299884Z",
     "start_time": "2023-08-08T15:29:01.172607499Z"
    }
   }
  },
  {
   "cell_type": "code",
   "execution_count": 245,
   "outputs": [
    {
     "data": {
      "text/plain": "0.6805249306494061"
     },
     "execution_count": 245,
     "metadata": {},
     "output_type": "execute_result"
    }
   ],
   "source": [
    "mask.sum() / len(data)"
   ],
   "metadata": {
    "collapsed": false,
    "ExecuteTime": {
     "end_time": "2023-08-08T15:29:01.190735686Z",
     "start_time": "2023-08-08T15:29:01.180223832Z"
    }
   }
  },
  {
   "cell_type": "markdown",
   "source": [
    "### Fraction of axioms involving one-to-many, many-to-one, or many-to-many roles:"
   ],
   "metadata": {
    "collapsed": false
   }
  },
  {
   "cell_type": "code",
   "execution_count": 246,
   "outputs": [],
   "source": [
    "mto_roles = set(x[1] for x in otm_counts[otm_counts['d'] > 1].index)"
   ],
   "metadata": {
    "collapsed": false,
    "ExecuteTime": {
     "end_time": "2023-08-08T15:29:01.238575343Z",
     "start_time": "2023-08-08T15:29:01.191323189Z"
    }
   }
  },
  {
   "cell_type": "code",
   "execution_count": 247,
   "outputs": [],
   "source": [
    "otm_roles = set(x[0] for x in mto_counts[mto_counts['c'] > 1].index)"
   ],
   "metadata": {
    "collapsed": false,
    "ExecuteTime": {
     "end_time": "2023-08-08T15:29:01.239259449Z",
     "start_time": "2023-08-08T15:29:01.200710329Z"
    }
   }
  },
  {
   "cell_type": "code",
   "execution_count": 248,
   "outputs": [],
   "source": [
    "roles = mto_roles | otm_roles"
   ],
   "metadata": {
    "collapsed": false,
    "ExecuteTime": {
     "end_time": "2023-08-08T15:29:01.256534396Z",
     "start_time": "2023-08-08T15:29:01.250890033Z"
    }
   }
  },
  {
   "cell_type": "code",
   "execution_count": 249,
   "outputs": [
    {
     "data": {
      "text/plain": "0.9569670673589872"
     },
     "execution_count": 249,
     "metadata": {},
     "output_type": "execute_result"
    }
   ],
   "source": [
    "data.apply(lambda row: row['r'] in roles, axis=1).sum() / len(data)"
   ],
   "metadata": {
    "collapsed": false,
    "ExecuteTime": {
     "end_time": "2023-08-08T15:29:01.522113669Z",
     "start_time": "2023-08-08T15:29:01.251560052Z"
    }
   }
  }
 ],
 "metadata": {
  "kernelspec": {
   "display_name": "Python 3",
   "language": "python",
   "name": "python3"
  },
  "language_info": {
   "codemirror_mode": {
    "name": "ipython",
    "version": 2
   },
   "file_extension": ".py",
   "mimetype": "text/x-python",
   "name": "python",
   "nbconvert_exporter": "python",
   "pygments_lexer": "ipython2",
   "version": "2.7.6"
  }
 },
 "nbformat": 4,
 "nbformat_minor": 0
}
